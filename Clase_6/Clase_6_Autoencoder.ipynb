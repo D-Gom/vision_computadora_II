{
  "nbformat": 4,
  "nbformat_minor": 0,
  "metadata": {
    "colab": {
      "name": "Clase 6 - Autoencoder",
      "provenance": [],
      "collapsed_sections": []
    },
    "kernelspec": {
      "display_name": "Python 3",
      "language": "python",
      "name": "python3"
    },
    "language_info": {
      "codemirror_mode": {
        "name": "ipython",
        "version": 3
      },
      "file_extension": ".py",
      "mimetype": "text/x-python",
      "name": "python",
      "nbconvert_exporter": "python",
      "pygments_lexer": "ipython3",
      "version": "3.7.0"
    },
    "accelerator": "GPU"
  },
  "cells": [
    {
      "cell_type": "markdown",
      "metadata": {
        "id": "_4ZjXf7fkHCG"
      },
      "source": [
        "# Convolutional autoencoder for image denoising\n",
        "\n",
        "**Author:** [Santiago L. Valdarrama](https://twitter.com/svpino)<br>\n",
        "**Date created:** 2021/03/01<br>\n",
        "**Last modified:** 2021/03/01<br>\n",
        "**Description:** How to train a deep convolutional autoencoder for image denoising."
      ]
    },
    {
      "cell_type": "markdown",
      "metadata": {
        "id": "AtTxVSZWkHCO"
      },
      "source": [
        "## Introduction\n",
        "\n",
        "This example demonstrates how to implement a deep convolutional autoencoder\n",
        "for image denoising, mapping noisy digits images from the MNIST dataset to\n",
        "clean digits images. This implementation is based on an original blog post\n",
        "titled [Building Autoencoders in Keras](https://blog.keras.io/building-autoencoders-in-keras.html)\n",
        "by [François Chollet](https://twitter.com/fchollet)."
      ]
    },
    {
      "cell_type": "markdown",
      "metadata": {
        "id": "SnTwo0QpkHCR"
      },
      "source": [
        "## Setup"
      ]
    },
    {
      "cell_type": "code",
      "metadata": {
        "id": "5Uf7AOPmkHCW"
      },
      "source": [
        "import numpy as np\n",
        "import tensorflow as tf\n",
        "import matplotlib.pyplot as plt\n",
        "\n",
        "from tensorflow.keras import layers\n",
        "from tensorflow.keras.datasets import mnist\n",
        "from tensorflow.keras.models import Model\n",
        "\n",
        "\n",
        "def preprocess(array):\n",
        "    \"\"\"\n",
        "    Normalizes the supplied array and reshapes it into the appropriate format.\n",
        "    \"\"\"\n",
        "\n",
        "    array = array.astype(\"float32\") / 255.0\n",
        "    array = np.reshape(array, (len(array), 28, 28, 1))\n",
        "    return array\n",
        "\n",
        "\n",
        "def noise(array):\n",
        "    \"\"\"\n",
        "    Adds random noise to each image in the supplied array.\n",
        "    \"\"\"\n",
        "\n",
        "    noise_factor = 0.4\n",
        "    noisy_array = array + noise_factor * np.random.normal(\n",
        "        loc=0.0, scale=1.0, size=array.shape\n",
        "    )\n",
        "\n",
        "    return np.clip(noisy_array, 0.0, 1.0)\n",
        "\n",
        "\n",
        "def display(array1, array2):\n",
        "    \"\"\"\n",
        "    Displays ten random images from each one of the supplied arrays.\n",
        "    \"\"\"\n",
        "\n",
        "    n = 10\n",
        "\n",
        "    indices = np.random.randint(len(array1), size=n)\n",
        "    images1 = array1[indices, :]\n",
        "    images2 = array2[indices, :]\n",
        "\n",
        "    plt.figure(figsize=(20, 4))\n",
        "    for i, (image1, image2) in enumerate(zip(images1, images2)):\n",
        "        ax = plt.subplot(2, n, i + 1)\n",
        "        plt.imshow(image1.reshape(28, 28))\n",
        "        plt.gray()\n",
        "        ax.get_xaxis().set_visible(False)\n",
        "        ax.get_yaxis().set_visible(False)\n",
        "\n",
        "        ax = plt.subplot(2, n, i + 1 + n)\n",
        "        plt.imshow(image2.reshape(28, 28))\n",
        "        plt.gray()\n",
        "        ax.get_xaxis().set_visible(False)\n",
        "        ax.get_yaxis().set_visible(False)\n",
        "\n",
        "    plt.show()\n"
      ],
      "execution_count": null,
      "outputs": []
    },
    {
      "cell_type": "markdown",
      "metadata": {
        "id": "jsInK5B3kHCc"
      },
      "source": [
        "## Prepare the data"
      ]
    },
    {
      "cell_type": "code",
      "metadata": {
        "id": "UdFNJUjokHCd",
        "colab": {
          "base_uri": "https://localhost:8080/",
          "height": 300
        },
        "outputId": "f06fa37f-3692-48d7-acb8-6549973472be"
      },
      "source": [
        "# Since we only need images from the dataset to encode and decode, we\n",
        "# won't use the labels.\n",
        "(train_data, _), (test_data, _) = mnist.load_data()\n",
        "\n",
        "# Normalize and reshape the data\n",
        "train_data = preprocess(train_data)\n",
        "test_data = preprocess(test_data)\n",
        "\n",
        "# Create a copy of the data with added noise\n",
        "noisy_train_data = noise(train_data)\n",
        "noisy_test_data = noise(test_data)\n",
        "\n",
        "# Display the train data and a version of it with added noise\n",
        "display(train_data, noisy_train_data)"
      ],
      "execution_count": null,
      "outputs": [
        {
          "output_type": "stream",
          "name": "stdout",
          "text": [
            "Downloading data from https://storage.googleapis.com/tensorflow/tf-keras-datasets/mnist.npz\n",
            "11493376/11490434 [==============================] - 0s 0us/step\n",
            "11501568/11490434 [==============================] - 0s 0us/step\n"
          ]
        },
        {
          "output_type": "display_data",
          "data": {
            "image/png": "[encoded data removed]",
            "text/plain": [
              "<Figure size 1440x288 with 20 Axes>"
            ]
          },
          "metadata": {
            "needs_background": "light"
          }
        }
      ]
    },
    {
      "cell_type": "markdown",
      "metadata": {
        "id": "mK0olCyqkHCe"
      },
      "source": [
        "## Build the autoencoder\n",
        "\n",
        "We are going to use the Functional API to build our convolutional autoencoder."
      ]
    },
    {
      "cell_type": "code",
      "metadata": {
        "id": "Rs4FBeswkHCf",
        "colab": {
          "base_uri": "https://localhost:8080/"
        },
        "outputId": "aebd9064-c792-4a19-ff93-13dcf8a8e66d"
      },
      "source": [
        "input = layers.Input(shape=(28, 28, 1))\n",
        "\n",
        "# Encoder\n",
        "x = layers.Conv2D(32, (3, 3), activation=\"relu\", padding=\"same\")(input)\n",
        "x = layers.MaxPooling2D((2, 2), padding=\"same\")(x)\n",
        "x = layers.Conv2D(32, (3, 3), activation=\"relu\", padding=\"same\")(x)\n",
        "x = layers.MaxPooling2D((2, 2), padding=\"same\")(x)\n",
        "\n",
        "# Decoder\n",
        "x = layers.Conv2DTranspose(32, (3, 3), strides=2, activation=\"relu\", padding=\"same\")(x)\n",
        "x = layers.Conv2DTranspose(32, (3, 3), strides=2, activation=\"relu\", padding=\"same\")(x)\n",
        "x = layers.Conv2D(1, (3, 3), activation=\"sigmoid\", padding=\"same\")(x)\n",
        "\n",
        "# Autoencoder\n",
        "autoencoder = Model(input, x)\n",
        "autoencoder.compile(optimizer=\"adam\", loss=\"binary_crossentropy\")\n",
        "autoencoder.summary()"
      ],
      "execution_count": null,
      "outputs": [
        {
          "output_type": "stream",
          "name": "stdout",
          "text": [
            "Model: \"model\"\n",
            "_________________________________________________________________\n",
            " Layer (type)                Output Shape              Param #   \n",
            "=================================================================\n",
            " input_1 (InputLayer)        [(None, 28, 28, 1)]       0         \n",
            "                                                                 \n",
            " conv2d (Conv2D)             (None, 28, 28, 32)        320       \n",
            "                                                                 \n",
            " max_pooling2d (MaxPooling2D  (None, 14, 14, 32)       0         \n",
            " )                                                               \n",
            "                                                                 \n",
            " conv2d_1 (Conv2D)           (None, 14, 14, 32)        9248      \n",
            "                                                                 \n",
            " max_pooling2d_1 (MaxPooling  (None, 7, 7, 32)         0         \n",
            " 2D)                                                             \n",
            "                                                                 \n",
            " conv2d_transpose (Conv2DTra  (None, 14, 14, 32)       9248      \n",
            " nspose)                                                         \n",
            "                                                                 \n",
            " conv2d_transpose_1 (Conv2DT  (None, 28, 28, 32)       9248      \n",
            " ranspose)                                                       \n",
            "                                                                 \n",
            " conv2d_2 (Conv2D)           (None, 28, 28, 1)         289       \n",
            "                                                                 \n",
            "=================================================================\n",
            "Total params: 28,353\n",
            "Trainable params: 28,353\n",
            "Non-trainable params: 0\n",
            "_________________________________________________________________\n"
          ]
        }
      ]
    },
    {
      "cell_type": "markdown",
      "metadata": {
        "id": "qZxU7tcQkHCj"
      },
      "source": [
        "Now we can train our autoencoder using `train_data` as both our input data\n",
        "and target. Notice we are setting up the validation data using the same\n",
        "format."
      ]
    },
    {
      "cell_type": "code",
      "metadata": {
        "id": "WvlP9wTzkHCo",
        "colab": {
          "base_uri": "https://localhost:8080/"
        },
        "outputId": "62186034-1449-4b89-a018-338b97d68998"
      },
      "source": [
        "autoencoder.fit(\n",
        "    x=train_data,\n",
        "    y=train_data,\n",
        "    epochs=50,\n",
        "    batch_size=128,\n",
        "    shuffle=True,\n",
        "    validation_data=(test_data, test_data),\n",
        ")"
      ],
      "execution_count": null,
      "outputs": [
        {
          "output_type": "stream",
          "name": "stdout",
          "text": [
            "Epoch 1/50\n",
            "469/469 [==============================] - 20s 17ms/step - loss: 0.1357 - val_loss: 0.0729\n",
            "Epoch 2/50\n",
            "469/469 [==============================] - 8s 16ms/step - loss: 0.0715 - val_loss: 0.0694\n",
            "Epoch 3/50\n",
            "469/469 [==============================] - 8s 16ms/step - loss: 0.0692 - val_loss: 0.0680\n",
            "Epoch 4/50\n",
            "469/469 [==============================] - 8s 16ms/step - loss: 0.0681 - val_loss: 0.0672\n",
            "Epoch 5/50\n",
            "469/469 [==============================] - 8s 16ms/step - loss: 0.0673 - val_loss: 0.0665\n",
            "Epoch 6/50\n",
            "469/469 [==============================] - 8s 17ms/step - loss: 0.0667 - val_loss: 0.0660\n",
            "Epoch 7/50\n",
            "469/469 [==============================] - 8s 16ms/step - loss: 0.0662 - val_loss: 0.0655\n",
            "Epoch 8/50\n",
            "469/469 [==============================] - 8s 16ms/step - loss: 0.0658 - val_loss: 0.0652\n",
            "Epoch 9/50\n",
            "469/469 [==============================] - 8s 16ms/step - loss: 0.0655 - val_loss: 0.0650\n",
            "Epoch 10/50\n",
            "469/469 [==============================] - 8s 16ms/step - loss: 0.0652 - val_loss: 0.0647\n",
            "Epoch 11/50\n",
            "469/469 [==============================] - 8s 16ms/step - loss: 0.0650 - val_loss: 0.0646\n",
            "Epoch 12/50\n",
            "469/469 [==============================] - 8s 16ms/step - loss: 0.0648 - val_loss: 0.0643\n",
            "Epoch 13/50\n",
            "469/469 [==============================] - 8s 16ms/step - loss: 0.0645 - val_loss: 0.0641\n",
            "Epoch 14/50\n",
            "469/469 [==============================] - 8s 16ms/step - loss: 0.0644 - val_loss: 0.0639\n",
            "Epoch 15/50\n",
            "469/469 [==============================] - 8s 16ms/step - loss: 0.0642 - val_loss: 0.0638\n",
            "Epoch 16/50\n",
            "469/469 [==============================] - 8s 16ms/step - loss: 0.0641 - val_loss: 0.0636\n",
            "Epoch 17/50\n",
            "469/469 [==============================] - 8s 16ms/step - loss: 0.0639 - val_loss: 0.0635\n",
            "Epoch 18/50\n",
            "469/469 [==============================] - 8s 16ms/step - loss: 0.0638 - val_loss: 0.0634\n",
            "Epoch 19/50\n",
            "469/469 [==============================] - 8s 16ms/step - loss: 0.0637 - val_loss: 0.0633\n",
            "Epoch 20/50\n",
            "469/469 [==============================] - 8s 17ms/step - loss: 0.0636 - val_loss: 0.0632\n",
            "Epoch 21/50\n",
            "469/469 [==============================] - 8s 16ms/step - loss: 0.0635 - val_loss: 0.0631\n",
            "Epoch 22/50\n",
            "469/469 [==============================] - 8s 16ms/step - loss: 0.0634 - val_loss: 0.0630\n",
            "Epoch 23/50\n",
            "469/469 [==============================] - 8s 16ms/step - loss: 0.0634 - val_loss: 0.0630\n",
            "Epoch 24/50\n",
            "469/469 [==============================] - 8s 16ms/step - loss: 0.0633 - val_loss: 0.0629\n",
            "Epoch 25/50\n",
            "469/469 [==============================] - 8s 16ms/step - loss: 0.0632 - val_loss: 0.0628\n",
            "Epoch 26/50\n",
            "469/469 [==============================] - 8s 16ms/step - loss: 0.0632 - val_loss: 0.0628\n",
            "Epoch 27/50\n",
            "469/469 [==============================] - 8s 16ms/step - loss: 0.0631 - val_loss: 0.0627\n",
            "Epoch 28/50\n",
            "469/469 [==============================] - 8s 16ms/step - loss: 0.0631 - val_loss: 0.0627\n",
            "Epoch 29/50\n",
            "469/469 [==============================] - 8s 16ms/step - loss: 0.0630 - val_loss: 0.0627\n",
            "Epoch 30/50\n",
            "469/469 [==============================] - 8s 16ms/step - loss: 0.0630 - val_loss: 0.0626\n",
            "Epoch 31/50\n",
            "469/469 [==============================] - 8s 16ms/step - loss: 0.0629 - val_loss: 0.0626\n",
            "Epoch 32/50\n",
            "469/469 [==============================] - 8s 16ms/step - loss: 0.0629 - val_loss: 0.0625\n",
            "Epoch 33/50\n",
            "469/469 [==============================] - 8s 16ms/step - loss: 0.0628 - val_loss: 0.0625\n",
            "Epoch 34/50\n",
            "469/469 [==============================] - 8s 16ms/step - loss: 0.0628 - val_loss: 0.0625\n",
            "Epoch 35/50\n",
            "469/469 [==============================] - 8s 16ms/step - loss: 0.0628 - val_loss: 0.0625\n",
            "Epoch 36/50\n",
            "469/469 [==============================] - 8s 16ms/step - loss: 0.0627 - val_loss: 0.0624\n",
            "Epoch 37/50\n",
            "469/469 [==============================] - 8s 16ms/step - loss: 0.0627 - val_loss: 0.0624\n",
            "Epoch 38/50\n",
            "469/469 [==============================] - 8s 16ms/step - loss: 0.0627 - val_loss: 0.0624\n",
            "Epoch 39/50\n",
            "469/469 [==============================] - 8s 16ms/step - loss: 0.0627 - val_loss: 0.0623\n",
            "Epoch 40/50\n",
            "469/469 [==============================] - 8s 16ms/step - loss: 0.0626 - val_loss: 0.0623\n",
            "Epoch 41/50\n",
            "469/469 [==============================] - 8s 16ms/step - loss: 0.0626 - val_loss: 0.0622\n",
            "Epoch 42/50\n",
            "469/469 [==============================] - 8s 16ms/step - loss: 0.0626 - val_loss: 0.0622\n",
            "Epoch 43/50\n",
            "469/469 [==============================] - 8s 16ms/step - loss: 0.0625 - val_loss: 0.0622\n",
            "Epoch 44/50\n",
            "469/469 [==============================] - 8s 17ms/step - loss: 0.0625 - val_loss: 0.0622\n",
            "Epoch 45/50\n",
            "469/469 [==============================] - 8s 16ms/step - loss: 0.0625 - val_loss: 0.0622\n",
            "Epoch 46/50\n",
            "469/469 [==============================] - 8s 16ms/step - loss: 0.0625 - val_loss: 0.0621\n",
            "Epoch 47/50\n",
            "469/469 [==============================] - 8s 16ms/step - loss: 0.0624 - val_loss: 0.0621\n",
            "Epoch 48/50\n",
            "469/469 [==============================] - 8s 16ms/step - loss: 0.0624 - val_loss: 0.0621\n",
            "Epoch 49/50\n",
            "469/469 [==============================] - 8s 16ms/step - loss: 0.0624 - val_loss: 0.0621\n",
            "Epoch 50/50\n",
            "469/469 [==============================] - 8s 16ms/step - loss: 0.0624 - val_loss: 0.0621\n"
          ]
        },
        {
          "output_type": "execute_result",
          "data": {
            "text/plain": [
              "<keras.callbacks.History at 0x7f634063ad50>"
            ]
          },
          "metadata": {},
          "execution_count": 4
        }
      ]
    },
    {
      "cell_type": "markdown",
      "metadata": {
        "id": "vbyyF8wOkHCp"
      },
      "source": [
        "Let's predict on our test dataset and display the original image together with\n",
        "the prediction from our autoencoder.\n",
        "\n",
        "Notice how the predictions are pretty close to the original images, although\n",
        "not quite the same."
      ]
    },
    {
      "cell_type": "code",
      "metadata": {
        "id": "o49XE7Y7kHCq",
        "colab": {
          "base_uri": "https://localhost:8080/",
          "height": 248
        },
        "outputId": "add70325-0dc5-41e7-8144-9893b05e58b1"
      },
      "source": [
        "predictions = autoencoder.predict(test_data)\n",
        "display(test_data, predictions)"
      ],
      "execution_count": null,
      "outputs": [
        {
          "output_type": "display_data",
          "data": {
            "image/png": "[encoded data removed]",
            "text/plain": [
              "<Figure size 1440x288 with 20 Axes>"
            ]
          },
          "metadata": {
            "needs_background": "light"
          }
        }
      ]
    },
    {
      "cell_type": "markdown",
      "metadata": {
        "id": "QsEiw1ZhkHCq"
      },
      "source": [
        "Now that we know that our autoencoder works, let's retrain it using the noisy\n",
        "data as our input and the clean data as our target. We want our autoencoder to\n",
        "learn how to denoise the images."
      ]
    },
    {
      "cell_type": "code",
      "metadata": {
        "id": "5samYXpHkHCr",
        "colab": {
          "base_uri": "https://localhost:8080/"
        },
        "outputId": "9fa8ee48-639f-416e-9162-cc8d4764906c"
      },
      "source": [
        "autoencoder.fit(\n",
        "    x=noisy_train_data,\n",
        "    y=train_data,\n",
        "    epochs=100,\n",
        "    batch_size=128,\n",
        "    shuffle=True,\n",
        "    validation_data=(noisy_test_data, test_data),\n",
        ")"
      ],
      "execution_count": null,
      "outputs": [
        {
          "output_type": "stream",
          "name": "stdout",
          "text": [
            "Epoch 1/100\n",
            "469/469 [==============================] - 8s 17ms/step - loss: 0.1021 - val_loss: 0.0940\n",
            "Epoch 2/100\n",
            "469/469 [==============================] - 8s 16ms/step - loss: 0.0935 - val_loss: 0.0916\n",
            "Epoch 3/100\n",
            "469/469 [==============================] - 8s 16ms/step - loss: 0.0917 - val_loss: 0.0905\n",
            "Epoch 4/100\n",
            "469/469 [==============================] - 8s 16ms/step - loss: 0.0907 - val_loss: 0.0897\n",
            "Epoch 5/100\n",
            "469/469 [==============================] - 8s 16ms/step - loss: 0.0900 - val_loss: 0.0889\n",
            "Epoch 6/100\n",
            "469/469 [==============================] - 8s 16ms/step - loss: 0.0894 - val_loss: 0.0884\n",
            "Epoch 7/100\n",
            "469/469 [==============================] - 7s 16ms/step - loss: 0.0889 - val_loss: 0.0880\n",
            "Epoch 8/100\n",
            "469/469 [==============================] - 8s 16ms/step - loss: 0.0886 - val_loss: 0.0878\n",
            "Epoch 9/100\n",
            "469/469 [==============================] - 8s 16ms/step - loss: 0.0883 - val_loss: 0.0875\n",
            "Epoch 10/100\n",
            "469/469 [==============================] - 8s 16ms/step - loss: 0.0880 - val_loss: 0.0872\n",
            "Epoch 11/100\n",
            "469/469 [==============================] - 8s 16ms/step - loss: 0.0877 - val_loss: 0.0870\n",
            "Epoch 12/100\n",
            "469/469 [==============================] - 8s 16ms/step - loss: 0.0875 - val_loss: 0.0868\n",
            "Epoch 13/100\n",
            "469/469 [==============================] - 8s 16ms/step - loss: 0.0873 - val_loss: 0.0868\n",
            "Epoch 14/100\n",
            "469/469 [==============================] - 8s 16ms/step - loss: 0.0872 - val_loss: 0.0865\n",
            "Epoch 15/100\n",
            "469/469 [==============================] - 8s 16ms/step - loss: 0.0870 - val_loss: 0.0865\n",
            "Epoch 16/100\n",
            "469/469 [==============================] - 8s 16ms/step - loss: 0.0869 - val_loss: 0.0866\n",
            "Epoch 17/100\n",
            "469/469 [==============================] - 8s 16ms/step - loss: 0.0867 - val_loss: 0.0862\n",
            "Epoch 18/100\n",
            "469/469 [==============================] - 8s 16ms/step - loss: 0.0866 - val_loss: 0.0862\n",
            "Epoch 19/100\n",
            "469/469 [==============================] - 8s 16ms/step - loss: 0.0865 - val_loss: 0.0859\n",
            "Epoch 20/100\n",
            "469/469 [==============================] - 8s 16ms/step - loss: 0.0864 - val_loss: 0.0859\n",
            "Epoch 21/100\n",
            "469/469 [==============================] - 8s 16ms/step - loss: 0.0863 - val_loss: 0.0857\n",
            "Epoch 22/100\n",
            "469/469 [==============================] - 8s 16ms/step - loss: 0.0862 - val_loss: 0.0862\n",
            "Epoch 23/100\n",
            "469/469 [==============================] - 7s 16ms/step - loss: 0.0862 - val_loss: 0.0857\n",
            "Epoch 24/100\n",
            "469/469 [==============================] - 7s 16ms/step - loss: 0.0860 - val_loss: 0.0855\n",
            "Epoch 25/100\n",
            "469/469 [==============================] - 7s 16ms/step - loss: 0.0860 - val_loss: 0.0854\n",
            "Epoch 26/100\n",
            "469/469 [==============================] - 8s 16ms/step - loss: 0.0860 - val_loss: 0.0854\n",
            "Epoch 27/100\n",
            "469/469 [==============================] - 7s 16ms/step - loss: 0.0858 - val_loss: 0.0853\n",
            "Epoch 28/100\n",
            "469/469 [==============================] - 7s 16ms/step - loss: 0.0858 - val_loss: 0.0853\n",
            "Epoch 29/100\n",
            "469/469 [==============================] - 8s 16ms/step - loss: 0.0857 - val_loss: 0.0853\n",
            "Epoch 30/100\n",
            "469/469 [==============================] - 8s 16ms/step - loss: 0.0857 - val_loss: 0.0852\n",
            "Epoch 31/100\n",
            "469/469 [==============================] - 8s 16ms/step - loss: 0.0856 - val_loss: 0.0852\n",
            "Epoch 32/100\n",
            "469/469 [==============================] - 7s 16ms/step - loss: 0.0856 - val_loss: 0.0853\n",
            "Epoch 33/100\n",
            "469/469 [==============================] - 8s 16ms/step - loss: 0.0856 - val_loss: 0.0851\n",
            "Epoch 34/100\n",
            "469/469 [==============================] - 7s 16ms/step - loss: 0.0855 - val_loss: 0.0850\n",
            "Epoch 35/100\n",
            "469/469 [==============================] - 8s 16ms/step - loss: 0.0855 - val_loss: 0.0851\n",
            "Epoch 36/100\n",
            "469/469 [==============================] - 8s 16ms/step - loss: 0.0855 - val_loss: 0.0851\n",
            "Epoch 37/100\n",
            "469/469 [==============================] - 7s 16ms/step - loss: 0.0854 - val_loss: 0.0849\n",
            "Epoch 38/100\n",
            "469/469 [==============================] - 7s 16ms/step - loss: 0.0854 - val_loss: 0.0849\n",
            "Epoch 39/100\n",
            "469/469 [==============================] - 8s 16ms/step - loss: 0.0853 - val_loss: 0.0849\n",
            "Epoch 40/100\n",
            "469/469 [==============================] - 8s 16ms/step - loss: 0.0853 - val_loss: 0.0848\n",
            "Epoch 41/100\n",
            "469/469 [==============================] - 7s 16ms/step - loss: 0.0853 - val_loss: 0.0850\n",
            "Epoch 42/100\n",
            "469/469 [==============================] - 8s 16ms/step - loss: 0.0852 - val_loss: 0.0851\n",
            "Epoch 43/100\n",
            "469/469 [==============================] - 8s 16ms/step - loss: 0.0852 - val_loss: 0.0849\n",
            "Epoch 44/100\n",
            "469/469 [==============================] - 8s 16ms/step - loss: 0.0852 - val_loss: 0.0852\n",
            "Epoch 45/100\n",
            "469/469 [==============================] - 7s 16ms/step - loss: 0.0851 - val_loss: 0.0848\n",
            "Epoch 46/100\n",
            "469/469 [==============================] - 8s 16ms/step - loss: 0.0851 - val_loss: 0.0852\n",
            "Epoch 47/100\n",
            "469/469 [==============================] - 8s 16ms/step - loss: 0.0851 - val_loss: 0.0847\n",
            "Epoch 48/100\n",
            "469/469 [==============================] - 8s 16ms/step - loss: 0.0851 - val_loss: 0.0848\n",
            "Epoch 49/100\n",
            "469/469 [==============================] - 7s 16ms/step - loss: 0.0851 - val_loss: 0.0846\n",
            "Epoch 50/100\n",
            "469/469 [==============================] - 7s 16ms/step - loss: 0.0850 - val_loss: 0.0848\n",
            "Epoch 51/100\n",
            "469/469 [==============================] - 7s 16ms/step - loss: 0.0850 - val_loss: 0.0846\n",
            "Epoch 52/100\n",
            "469/469 [==============================] - 8s 16ms/step - loss: 0.0850 - val_loss: 0.0846\n",
            "Epoch 53/100\n",
            "469/469 [==============================] - 7s 16ms/step - loss: 0.0850 - val_loss: 0.0846\n",
            "Epoch 54/100\n",
            "469/469 [==============================] - 8s 16ms/step - loss: 0.0849 - val_loss: 0.0845\n",
            "Epoch 55/100\n",
            "469/469 [==============================] - 8s 16ms/step - loss: 0.0849 - val_loss: 0.0849\n",
            "Epoch 56/100\n",
            "469/469 [==============================] - 7s 16ms/step - loss: 0.0849 - val_loss: 0.0846\n",
            "Epoch 57/100\n",
            "469/469 [==============================] - 8s 16ms/step - loss: 0.0849 - val_loss: 0.0847\n",
            "Epoch 58/100\n",
            "469/469 [==============================] - 8s 16ms/step - loss: 0.0849 - val_loss: 0.0845\n",
            "Epoch 59/100\n",
            "469/469 [==============================] - 8s 16ms/step - loss: 0.0848 - val_loss: 0.0845\n",
            "Epoch 60/100\n",
            "469/469 [==============================] - 8s 16ms/step - loss: 0.0848 - val_loss: 0.0847\n",
            "Epoch 61/100\n",
            "469/469 [==============================] - 8s 16ms/step - loss: 0.0848 - val_loss: 0.0846\n",
            "Epoch 62/100\n",
            "469/469 [==============================] - 8s 16ms/step - loss: 0.0848 - val_loss: 0.0844\n",
            "Epoch 63/100\n",
            "469/469 [==============================] - 8s 16ms/step - loss: 0.0848 - val_loss: 0.0846\n",
            "Epoch 64/100\n",
            "469/469 [==============================] - 8s 16ms/step - loss: 0.0847 - val_loss: 0.0845\n",
            "Epoch 65/100\n",
            "469/469 [==============================] - 8s 16ms/step - loss: 0.0847 - val_loss: 0.0845\n",
            "Epoch 66/100\n",
            "469/469 [==============================] - 8s 16ms/step - loss: 0.0847 - val_loss: 0.0843\n",
            "Epoch 67/100\n",
            "469/469 [==============================] - 8s 16ms/step - loss: 0.0847 - val_loss: 0.0843\n",
            "Epoch 68/100\n",
            "469/469 [==============================] - 8s 17ms/step - loss: 0.0847 - val_loss: 0.0845\n",
            "Epoch 69/100\n",
            "469/469 [==============================] - 8s 16ms/step - loss: 0.0847 - val_loss: 0.0844\n",
            "Epoch 70/100\n",
            "469/469 [==============================] - 8s 17ms/step - loss: 0.0847 - val_loss: 0.0844\n",
            "Epoch 71/100\n",
            "469/469 [==============================] - 8s 16ms/step - loss: 0.0846 - val_loss: 0.0845\n",
            "Epoch 72/100\n",
            "469/469 [==============================] - 8s 16ms/step - loss: 0.0846 - val_loss: 0.0844\n",
            "Epoch 73/100\n",
            "469/469 [==============================] - 8s 16ms/step - loss: 0.0846 - val_loss: 0.0844\n",
            "Epoch 74/100\n",
            "469/469 [==============================] - 7s 16ms/step - loss: 0.0846 - val_loss: 0.0845\n",
            "Epoch 75/100\n",
            "469/469 [==============================] - 8s 16ms/step - loss: 0.0846 - val_loss: 0.0849\n",
            "Epoch 76/100\n",
            "469/469 [==============================] - 8s 16ms/step - loss: 0.0846 - val_loss: 0.0843\n",
            "Epoch 77/100\n",
            "469/469 [==============================] - 8s 16ms/step - loss: 0.0846 - val_loss: 0.0842\n",
            "Epoch 78/100\n",
            "469/469 [==============================] - 8s 16ms/step - loss: 0.0845 - val_loss: 0.0843\n",
            "Epoch 79/100\n",
            "469/469 [==============================] - 8s 16ms/step - loss: 0.0845 - val_loss: 0.0843\n",
            "Epoch 80/100\n",
            "469/469 [==============================] - 8s 16ms/step - loss: 0.0845 - val_loss: 0.0842\n",
            "Epoch 81/100\n",
            "469/469 [==============================] - 8s 16ms/step - loss: 0.0845 - val_loss: 0.0843\n",
            "Epoch 82/100\n",
            "469/469 [==============================] - 8s 16ms/step - loss: 0.0845 - val_loss: 0.0842\n",
            "Epoch 83/100\n",
            "469/469 [==============================] - 8s 16ms/step - loss: 0.0845 - val_loss: 0.0843\n",
            "Epoch 84/100\n",
            "469/469 [==============================] - 8s 16ms/step - loss: 0.0845 - val_loss: 0.0842\n",
            "Epoch 85/100\n",
            "469/469 [==============================] - 8s 16ms/step - loss: 0.0845 - val_loss: 0.0842\n",
            "Epoch 86/100\n",
            "469/469 [==============================] - 8s 16ms/step - loss: 0.0845 - val_loss: 0.0842\n",
            "Epoch 87/100\n",
            "469/469 [==============================] - 8s 16ms/step - loss: 0.0845 - val_loss: 0.0842\n",
            "Epoch 88/100\n",
            "469/469 [==============================] - 8s 16ms/step - loss: 0.0845 - val_loss: 0.0842\n",
            "Epoch 89/100\n",
            "469/469 [==============================] - 8s 16ms/step - loss: 0.0844 - val_loss: 0.0841\n",
            "Epoch 90/100\n",
            "469/469 [==============================] - 8s 16ms/step - loss: 0.0844 - val_loss: 0.0842\n",
            "Epoch 91/100\n",
            "469/469 [==============================] - 8s 16ms/step - loss: 0.0844 - val_loss: 0.0842\n",
            "Epoch 92/100\n",
            "469/469 [==============================] - 8s 16ms/step - loss: 0.0844 - val_loss: 0.0842\n",
            "Epoch 93/100\n",
            "469/469 [==============================] - 8s 16ms/step - loss: 0.0844 - val_loss: 0.0842\n",
            "Epoch 94/100\n",
            "469/469 [==============================] - 8s 17ms/step - loss: 0.0844 - val_loss: 0.0845\n",
            "Epoch 95/100\n",
            "469/469 [==============================] - 8s 16ms/step - loss: 0.0844 - val_loss: 0.0841\n",
            "Epoch 96/100\n",
            "469/469 [==============================] - 8s 16ms/step - loss: 0.0844 - val_loss: 0.0842\n",
            "Epoch 97/100\n",
            "469/469 [==============================] - 8s 16ms/step - loss: 0.0844 - val_loss: 0.0841\n",
            "Epoch 98/100\n",
            "469/469 [==============================] - 8s 16ms/step - loss: 0.0843 - val_loss: 0.0842\n",
            "Epoch 99/100\n",
            "469/469 [==============================] - 8s 16ms/step - loss: 0.0844 - val_loss: 0.0841\n",
            "Epoch 100/100\n",
            "469/469 [==============================] - 8s 16ms/step - loss: 0.0843 - val_loss: 0.0842\n"
          ]
        },
        {
          "output_type": "execute_result",
          "data": {
            "text/plain": [
              "<keras.callbacks.History at 0x7f62c88e5810>"
            ]
          },
          "metadata": {},
          "execution_count": 6
        }
      ]
    },
    {
      "cell_type": "markdown",
      "metadata": {
        "id": "tUwhoWf5kHCs"
      },
      "source": [
        "Let's now predict on the noisy data and display the results of our autoencoder.\n",
        "\n",
        "Notice how the autoencoder does an amazing job at removing the noise from the\n",
        "input images."
      ]
    },
    {
      "cell_type": "code",
      "metadata": {
        "id": "WLtB2oSlkHCs",
        "colab": {
          "base_uri": "https://localhost:8080/",
          "height": 248
        },
        "outputId": "7f8aa947-b81f-478e-d177-b925fe2bbc58"
      },
      "source": [
        "predictions = autoencoder.predict(noisy_test_data)\n",
        "display(noisy_test_data, predictions)"
      ],
      "execution_count": null,
      "outputs": [
        {
          "output_type": "display_data",
          "data": {
            "image/png": "[encoded data removed]",
            "text/plain": [
              "<Figure size 1440x288 with 20 Axes>"
            ]
          },
          "metadata": {
            "needs_background": "light"
          }
        }
      ]
    },
    {
      "cell_type": "code",
      "metadata": {
        "id": "rXfQ-w3EuZ2R"
      },
      "source": [
        ""
      ],
      "execution_count": null,
      "outputs": []
    }
  ]
}