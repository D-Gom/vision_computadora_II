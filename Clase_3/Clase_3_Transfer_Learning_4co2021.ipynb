{
  "cells": [
    {
      "cell_type": "markdown",
      "metadata": {
        "id": "mROM_tdnjGo9"
      },
      "source": [
        "# Transfer Learning\n",
        "\n",
        "Cuando realizamos Transfer Learning, tomamos un modelo ya entrenado con un conjunto de datos y utilizamos sus capas base para entrenar un nuevo modelo sobre otro dataset de interes. Dependiendo de la cantidad de datos y de lo diferentes que sean podremos evaluar como realizar dicho proceso de Transfer Learning.\n",
        "\n",
        "Para este ejercicio, vamos a utilizar alguno de los modelos precargados en PyTorch para realizar Transfer Learning sobre el dataset de perros y gatos."
      ]
    },
    {
      "cell_type": "code",
      "execution_count": null,
      "metadata": {
        "colab": {
          "base_uri": "https://localhost:8080/"
        },
        "id": "qmjePDlijB2Q",
        "outputId": "a26c4cfa-d86c-46c3-9612-6a89a23aa28a"
      },
      "outputs": [],
      "source": [
        "import numpy as np\n",
        "import matplotlib.pyplot as plt\n",
        "\n",
        "import torch\n",
        "import torchvision\n",
        "import torchsummary\n",
        "\n",
        "!pip install torchmetrics\n",
        "import torchmetrics"
      ]
    },
    {
      "cell_type": "markdown",
      "metadata": {
        "id": "kNdH-6U3WcQ0"
      },
      "source": [
        "Podemos descargar el dataset al entorno de trabajo, desde una carpea de en Drive a partir de utilizar el ID del archivo dentro de Drive"
      ]
    },
    {
      "cell_type": "code",
      "execution_count": null,
      "metadata": {
        "colab": {
          "base_uri": "https://localhost:8080/"
        },
        "id": "rM-eChhpWivN",
        "outputId": "6cd7c488-37d8-425a-ee02-a1207f4158db"
      },
      "outputs": [],
      "source": [
        "# https://drive.google.com/file/d/1bx73wWKNgxFZ6sSFSeaKBVcuGtdraKh-/view?usp=sharing\n",
        "# El ID sera: 1bx73wWKNgxFZ6sSFSeaKBVcuGtdraKh-\n",
        "!gdown --id 1bx73wWKNgxFZ6sSFSeaKBVcuGtdraKh-"
      ]
    },
    {
      "cell_type": "code",
      "execution_count": null,
      "metadata": {
        "id": "VvGowiFSWjRj"
      },
      "outputs": [],
      "source": [
        "!unzip /content/perros_y_gatos.zip > /dev/null"
      ]
    },
    {
      "cell_type": "markdown",
      "metadata": {
        "id": "2KB104rlWsld"
      },
      "source": [
        "## Carga de datos con ImageDataGenerator"
      ]
    },
    {
      "cell_type": "code",
      "execution_count": null,
      "metadata": {
        "id": "3IZBiRvq5ljV"
      },
      "outputs": [],
      "source": [
        "data_transforms = torchvision.transforms.Compose([\n",
        "                    torchvision.transforms.Resize(size=(150, 150)),\n",
        "                    torchvision.transforms.ToTensor(),\n",
        "                    torchvision.transforms.Normalize(mean=[0.485, 0.456, 0.406], std=[0.229, 0.224, 0.225])\n",
        "                  ])\n",
        "\n",
        "train_set = torchvision.datasets.ImageFolder(root='./train', transform=data_transforms)\n",
        "valid_set = torchvision.datasets.ImageFolder(root='./validation', transform=data_transforms)\n",
        "\n",
        "train_loader = torch.utils.data.DataLoader(train_set, batch_size=32, shuffle=True)\n",
        "valid_loader = torch.utils.data.DataLoader(valid_set, batch_size=32, shuffle=True)\n"
      ]
    },
    {
      "cell_type": "markdown",
      "metadata": {
        "id": "MoBRSeUkYD49"
      },
      "source": [
        "## Carga de modelo base\n",
        "\n",
        "Dentro de Keras, hay un modulo llamado [`applications`](https://www.tensorflow.org/api_docs/python/tf/keras/applications?hl=es-419), dentro del cual podemos encontrar algunos modelos de redes convolucionales, como los vistos en teoria, ya preentrenados y disponibles para descargar y utilizar. En este caso vamos a utilizar la arquitectura de VGG16 cuyos pesos fueron entrenados con el dataset ImageNet."
      ]
    },
    {
      "cell_type": "code",
      "execution_count": null,
      "metadata": {
        "colab": {
          "base_uri": "https://localhost:8080/",
          "height": 1000,
          "referenced_widgets": [
            "b9116fde5d2d4ec18990ffada1eae5ca",
            "3b6a2693526d46c5b8d1ef429264da37",
            "fa3a40cc036d43dcabc2c36805361510",
            "1ef2c82b59654e4bace312dea51c823f",
            "36589b13b695414a94328e776475cc00",
            "1e9afb80cb8a44d7993c1b5fa222aed7",
            "528f7cbd325e448096b120ca680e4a0c",
            "8791d76ea97a4a97b6627aa1c01d1f1a",
            "c940a64ae01c4b8c91c03011cece4f1e",
            "67db68f7021b4d99a72ebaf039809e31",
            "5015b36f5e754aef95f69b6617626b9a"
          ]
        },
        "id": "x8WMmsGm7kSi",
        "outputId": "ee863358-90e7-4249-9bef-4b5225ddd73f"
      },
      "outputs": [],
      "source": [
        "vgg19_model = torchvision.models.vgg19(pretrained=True)\n",
        "\n",
        "vgg19_model.to(\"cuda\")\n",
        "\n",
        "torchsummary.summary(vgg19_model, input_size=(3, 224, 224))\n",
        "vgg19_model.modules"
      ]
    },
    {
      "cell_type": "markdown",
      "metadata": {
        "id": "-4tMS_KeZ1UX"
      },
      "source": [
        "## Congelo las capas de la red base\n",
        "\n",
        "El primer paso para realizar Transfer Learning seria congelar las capas del modelo base seleccionado. Para hacer eso en PyTorch debemos poner en `False` la variable `requires_grad` de cada uno de los parametros que integran el modelo."
      ]
    },
    {
      "cell_type": "code",
      "execution_count": null,
      "metadata": {
        "id": "vHGwytYb66U9"
      },
      "outputs": [],
      "source": [
        "for param in vgg19_model.parameters():\n",
        "    param.requires_grad = False"
      ]
    },
    {
      "cell_type": "markdown",
      "metadata": {
        "id": "DHzO9rUU14KX"
      },
      "source": [
        "Luego, en base a la arquitectura particular del modelo base, modificamos las capas que nosotros queremos, asignando una nueva capa, la cual, por defecto, tendra `requires_grad = True`"
      ]
    },
    {
      "cell_type": "code",
      "execution_count": null,
      "metadata": {
        "id": "OG5nwF2N7M5-"
      },
      "outputs": [],
      "source": [
        "last_layer_in_features = vgg19_model.classifier[-1].in_features\n",
        "vgg19_model.classifier[-1] = torch.nn.Linear(in_features=last_layer_in_features, out_features=2)"
      ]
    },
    {
      "cell_type": "code",
      "execution_count": null,
      "metadata": {
        "id": "bNftFua27rR7"
      },
      "outputs": [],
      "source": [
        "optimizer_ft = torch.optim.Adam(vgg19_model.parameters(), lr=0.0001)\n",
        "criterion = torch.nn.CrossEntropyLoss()"
      ]
    },
    {
      "cell_type": "code",
      "execution_count": null,
      "metadata": {
        "id": "vJybwF369TjW"
      },
      "outputs": [],
      "source": [
        "def train(model, criterion, optimizer, train_loader, valid_loader, epochs):\n",
        "\n",
        "    accuracy_metric = torchmetrics.Accuracy()\n",
        "\n",
        "    if torch.cuda.is_available():\n",
        "        model.to(\"cuda\")\n",
        "        accuracy_metric.to(\"cuda\")\n",
        "\n",
        "    train_loss = []\n",
        "    train_acc = []\n",
        "    valid_loss = []\n",
        "    valid_acc = []\n",
        "\n",
        "    for epoch in range(epochs):\n",
        "\n",
        "        # Pongo el modelo en modo entrenamiento\n",
        "        model.train()\n",
        "\n",
        "        epoch_train_loss = 0.0\n",
        "        epoch_train_accuracy = 0.0\n",
        "\n",
        "        for train_data, train_target in train_loader:\n",
        "            \n",
        "            if torch.cuda.is_available():\n",
        "                train_data = train_data.to(\"cuda\")\n",
        "                train_target = train_target.to(\"cuda\")\n",
        "\n",
        "            optimizer.zero_grad()\n",
        "            output = model(train_data)\n",
        "            loss = criterion(output, train_target)\n",
        "            epoch_train_loss += loss.item()\n",
        "            loss.backward()\n",
        "            optimizer.step()\n",
        "\n",
        "            accuracy = accuracy_metric(output, train_target)\n",
        "            epoch_train_accuracy += accuracy.item()\n",
        "\n",
        "        epoch_train_loss = epoch_train_loss / len(train_loader)\n",
        "        epoch_train_accuracy = epoch_train_accuracy / len(train_loader)\n",
        "        train_loss.append(epoch_train_loss)\n",
        "        train_acc.append(epoch_train_accuracy)\n",
        "\n",
        "        # Pongo el modelo en modo testeo\n",
        "        model.eval()\n",
        "\n",
        "        epoch_valid_loss = 0.0\n",
        "        epoch_valid_accuracy = 0.0\n",
        "\n",
        "        for valid_data, valid_target in valid_loader:\n",
        "            if torch.cuda.is_available():\n",
        "                valid_data = valid_data.to(\"cuda\")\n",
        "                valid_target = valid_target.to(\"cuda\")\n",
        "\n",
        "            output = model(valid_data)\n",
        "            epoch_valid_loss += criterion(output, valid_target).item()\n",
        "            epoch_valid_accuracy += accuracy_metric(output, valid_target).item()\n",
        "            \n",
        "        epoch_valid_loss = epoch_valid_loss / len(valid_loader)\n",
        "        epoch_valid_accuracy = epoch_valid_accuracy / len(valid_loader)\n",
        "        valid_loss.append(epoch_valid_loss)\n",
        "        valid_acc.append(epoch_valid_accuracy)\n",
        "\n",
        "        print(\"Epoch: {}/{} - Train loss {:.6f} - Train Accuracy {:.6f} - Valid Loss {:.6f} - Valid Accuracy {:.6f}\".format(\n",
        "        epoch+1, epochs, epoch_train_loss, epoch_train_accuracy, epoch_valid_loss, epoch_valid_accuracy))\n",
        "\n",
        "    history = {}\n",
        "    history[\"train_loss\"] = train_loss\n",
        "    history[\"train_acc\"] = train_acc\n",
        "    history[\"valid_loss\"] = valid_loss\n",
        "    history[\"valid_acc\"] = valid_acc\n",
        "\n",
        "    return model, history"
      ]
    },
    {
      "cell_type": "code",
      "execution_count": null,
      "metadata": {
        "colab": {
          "base_uri": "https://localhost:8080/"
        },
        "id": "Zxs54bg-nSuO",
        "outputId": "3d889897-cfee-422c-bac5-d68401b82b5a"
      },
      "outputs": [],
      "source": [
        "result_model, history = train(vgg19_model, criterion, optimizer_ft, train_loader, valid_loader, 3)"
      ]
    },
    {
      "cell_type": "code",
      "execution_count": null,
      "metadata": {
        "colab": {
          "base_uri": "https://localhost:8080/",
          "height": 281
        },
        "id": "Eu1CfrYU9OGw",
        "outputId": "228b5062-d76e-4cf1-a829-c09b4fc54076"
      },
      "outputs": [],
      "source": [
        "plt.plot(history[\"train_loss\"])\n",
        "plt.plot(history[\"valid_loss\"])\n",
        "plt.title(\"Error de entrenamiento vs validación\")\n",
        "plt.legend(['Train', 'Valid'])\n",
        "plt.show()"
      ]
    }
  ],
  "metadata": {
    "accelerator": "GPU",
    "colab": {
      "name": "Clase 3 - Transfer Learning - 4co2021.ipynb",
      "provenance": []
    },
    "kernelspec": {
      "display_name": "Python 3",
      "name": "python3"
    },
    "language_info": {
      "name": "python"
    },
    "widgets": {
      "application/vnd.jupyter.widget-state+json": {
        "1e9afb80cb8a44d7993c1b5fa222aed7": {
          "model_module": "@jupyter-widgets/base",
          "model_module_version": "1.2.0",
          "model_name": "LayoutModel",
          "state": {
            "_model_module": "@jupyter-widgets/base",
            "_model_module_version": "1.2.0",
            "_model_name": "LayoutModel",
            "_view_count": null,
            "_view_module": "@jupyter-widgets/base",
            "_view_module_version": "1.2.0",
            "_view_name": "LayoutView",
            "align_content": null,
            "align_items": null,
            "align_self": null,
            "border": null,
            "bottom": null,
            "display": null,
            "flex": null,
            "flex_flow": null,
            "grid_area": null,
            "grid_auto_columns": null,
            "grid_auto_flow": null,
            "grid_auto_rows": null,
            "grid_column": null,
            "grid_gap": null,
            "grid_row": null,
            "grid_template_areas": null,
            "grid_template_columns": null,
            "grid_template_rows": null,
            "height": null,
            "justify_content": null,
            "justify_items": null,
            "left": null,
            "margin": null,
            "max_height": null,
            "max_width": null,
            "min_height": null,
            "min_width": null,
            "object_fit": null,
            "object_position": null,
            "order": null,
            "overflow": null,
            "overflow_x": null,
            "overflow_y": null,
            "padding": null,
            "right": null,
            "top": null,
            "visibility": null,
            "width": null
          }
        },
        "1ef2c82b59654e4bace312dea51c823f": {
          "model_module": "@jupyter-widgets/controls",
          "model_module_version": "1.5.0",
          "model_name": "HTMLModel",
          "state": {
            "_dom_classes": [],
            "_model_module": "@jupyter-widgets/controls",
            "_model_module_version": "1.5.0",
            "_model_name": "HTMLModel",
            "_view_count": null,
            "_view_module": "@jupyter-widgets/controls",
            "_view_module_version": "1.5.0",
            "_view_name": "HTMLView",
            "description": "",
            "description_tooltip": null,
            "layout": "IPY_MODEL_67db68f7021b4d99a72ebaf039809e31",
            "placeholder": "​",
            "style": "IPY_MODEL_5015b36f5e754aef95f69b6617626b9a",
            "value": " 548M/548M [00:04&lt;00:00, 156MB/s]"
          }
        },
        "36589b13b695414a94328e776475cc00": {
          "model_module": "@jupyter-widgets/base",
          "model_module_version": "1.2.0",
          "model_name": "LayoutModel",
          "state": {
            "_model_module": "@jupyter-widgets/base",
            "_model_module_version": "1.2.0",
            "_model_name": "LayoutModel",
            "_view_count": null,
            "_view_module": "@jupyter-widgets/base",
            "_view_module_version": "1.2.0",
            "_view_name": "LayoutView",
            "align_content": null,
            "align_items": null,
            "align_self": null,
            "border": null,
            "bottom": null,
            "display": null,
            "flex": null,
            "flex_flow": null,
            "grid_area": null,
            "grid_auto_columns": null,
            "grid_auto_flow": null,
            "grid_auto_rows": null,
            "grid_column": null,
            "grid_gap": null,
            "grid_row": null,
            "grid_template_areas": null,
            "grid_template_columns": null,
            "grid_template_rows": null,
            "height": null,
            "justify_content": null,
            "justify_items": null,
            "left": null,
            "margin": null,
            "max_height": null,
            "max_width": null,
            "min_height": null,
            "min_width": null,
            "object_fit": null,
            "object_position": null,
            "order": null,
            "overflow": null,
            "overflow_x": null,
            "overflow_y": null,
            "padding": null,
            "right": null,
            "top": null,
            "visibility": null,
            "width": null
          }
        },
        "3b6a2693526d46c5b8d1ef429264da37": {
          "model_module": "@jupyter-widgets/controls",
          "model_module_version": "1.5.0",
          "model_name": "HTMLModel",
          "state": {
            "_dom_classes": [],
            "_model_module": "@jupyter-widgets/controls",
            "_model_module_version": "1.5.0",
            "_model_name": "HTMLModel",
            "_view_count": null,
            "_view_module": "@jupyter-widgets/controls",
            "_view_module_version": "1.5.0",
            "_view_name": "HTMLView",
            "description": "",
            "description_tooltip": null,
            "layout": "IPY_MODEL_1e9afb80cb8a44d7993c1b5fa222aed7",
            "placeholder": "​",
            "style": "IPY_MODEL_528f7cbd325e448096b120ca680e4a0c",
            "value": "100%"
          }
        },
        "5015b36f5e754aef95f69b6617626b9a": {
          "model_module": "@jupyter-widgets/controls",
          "model_module_version": "1.5.0",
          "model_name": "DescriptionStyleModel",
          "state": {
            "_model_module": "@jupyter-widgets/controls",
            "_model_module_version": "1.5.0",
            "_model_name": "DescriptionStyleModel",
            "_view_count": null,
            "_view_module": "@jupyter-widgets/base",
            "_view_module_version": "1.2.0",
            "_view_name": "StyleView",
            "description_width": ""
          }
        },
        "528f7cbd325e448096b120ca680e4a0c": {
          "model_module": "@jupyter-widgets/controls",
          "model_module_version": "1.5.0",
          "model_name": "DescriptionStyleModel",
          "state": {
            "_model_module": "@jupyter-widgets/controls",
            "_model_module_version": "1.5.0",
            "_model_name": "DescriptionStyleModel",
            "_view_count": null,
            "_view_module": "@jupyter-widgets/base",
            "_view_module_version": "1.2.0",
            "_view_name": "StyleView",
            "description_width": ""
          }
        },
        "67db68f7021b4d99a72ebaf039809e31": {
          "model_module": "@jupyter-widgets/base",
          "model_module_version": "1.2.0",
          "model_name": "LayoutModel",
          "state": {
            "_model_module": "@jupyter-widgets/base",
            "_model_module_version": "1.2.0",
            "_model_name": "LayoutModel",
            "_view_count": null,
            "_view_module": "@jupyter-widgets/base",
            "_view_module_version": "1.2.0",
            "_view_name": "LayoutView",
            "align_content": null,
            "align_items": null,
            "align_self": null,
            "border": null,
            "bottom": null,
            "display": null,
            "flex": null,
            "flex_flow": null,
            "grid_area": null,
            "grid_auto_columns": null,
            "grid_auto_flow": null,
            "grid_auto_rows": null,
            "grid_column": null,
            "grid_gap": null,
            "grid_row": null,
            "grid_template_areas": null,
            "grid_template_columns": null,
            "grid_template_rows": null,
            "height": null,
            "justify_content": null,
            "justify_items": null,
            "left": null,
            "margin": null,
            "max_height": null,
            "max_width": null,
            "min_height": null,
            "min_width": null,
            "object_fit": null,
            "object_position": null,
            "order": null,
            "overflow": null,
            "overflow_x": null,
            "overflow_y": null,
            "padding": null,
            "right": null,
            "top": null,
            "visibility": null,
            "width": null
          }
        },
        "8791d76ea97a4a97b6627aa1c01d1f1a": {
          "model_module": "@jupyter-widgets/base",
          "model_module_version": "1.2.0",
          "model_name": "LayoutModel",
          "state": {
            "_model_module": "@jupyter-widgets/base",
            "_model_module_version": "1.2.0",
            "_model_name": "LayoutModel",
            "_view_count": null,
            "_view_module": "@jupyter-widgets/base",
            "_view_module_version": "1.2.0",
            "_view_name": "LayoutView",
            "align_content": null,
            "align_items": null,
            "align_self": null,
            "border": null,
            "bottom": null,
            "display": null,
            "flex": null,
            "flex_flow": null,
            "grid_area": null,
            "grid_auto_columns": null,
            "grid_auto_flow": null,
            "grid_auto_rows": null,
            "grid_column": null,
            "grid_gap": null,
            "grid_row": null,
            "grid_template_areas": null,
            "grid_template_columns": null,
            "grid_template_rows": null,
            "height": null,
            "justify_content": null,
            "justify_items": null,
            "left": null,
            "margin": null,
            "max_height": null,
            "max_width": null,
            "min_height": null,
            "min_width": null,
            "object_fit": null,
            "object_position": null,
            "order": null,
            "overflow": null,
            "overflow_x": null,
            "overflow_y": null,
            "padding": null,
            "right": null,
            "top": null,
            "visibility": null,
            "width": null
          }
        },
        "b9116fde5d2d4ec18990ffada1eae5ca": {
          "model_module": "@jupyter-widgets/controls",
          "model_module_version": "1.5.0",
          "model_name": "HBoxModel",
          "state": {
            "_dom_classes": [],
            "_model_module": "@jupyter-widgets/controls",
            "_model_module_version": "1.5.0",
            "_model_name": "HBoxModel",
            "_view_count": null,
            "_view_module": "@jupyter-widgets/controls",
            "_view_module_version": "1.5.0",
            "_view_name": "HBoxView",
            "box_style": "",
            "children": [
              "IPY_MODEL_3b6a2693526d46c5b8d1ef429264da37",
              "IPY_MODEL_fa3a40cc036d43dcabc2c36805361510",
              "IPY_MODEL_1ef2c82b59654e4bace312dea51c823f"
            ],
            "layout": "IPY_MODEL_36589b13b695414a94328e776475cc00"
          }
        },
        "c940a64ae01c4b8c91c03011cece4f1e": {
          "model_module": "@jupyter-widgets/controls",
          "model_module_version": "1.5.0",
          "model_name": "ProgressStyleModel",
          "state": {
            "_model_module": "@jupyter-widgets/controls",
            "_model_module_version": "1.5.0",
            "_model_name": "ProgressStyleModel",
            "_view_count": null,
            "_view_module": "@jupyter-widgets/base",
            "_view_module_version": "1.2.0",
            "_view_name": "StyleView",
            "bar_color": null,
            "description_width": ""
          }
        },
        "fa3a40cc036d43dcabc2c36805361510": {
          "model_module": "@jupyter-widgets/controls",
          "model_module_version": "1.5.0",
          "model_name": "FloatProgressModel",
          "state": {
            "_dom_classes": [],
            "_model_module": "@jupyter-widgets/controls",
            "_model_module_version": "1.5.0",
            "_model_name": "FloatProgressModel",
            "_view_count": null,
            "_view_module": "@jupyter-widgets/controls",
            "_view_module_version": "1.5.0",
            "_view_name": "ProgressView",
            "bar_style": "success",
            "description": "",
            "description_tooltip": null,
            "layout": "IPY_MODEL_8791d76ea97a4a97b6627aa1c01d1f1a",
            "max": 574673361,
            "min": 0,
            "orientation": "horizontal",
            "style": "IPY_MODEL_c940a64ae01c4b8c91c03011cece4f1e",
            "value": 574673361
          }
        }
      }
    }
  },
  "nbformat": 4,
  "nbformat_minor": 0
}
