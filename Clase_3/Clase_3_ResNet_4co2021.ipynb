{
  "cells": [
    {
      "cell_type": "markdown",
      "metadata": {
        "id": "FuKW7btzzNPU"
      },
      "source": [
        "# Implementación de ResNet\n",
        "\n",
        "En este ejercicio práctico vamos a implementar una red neuronal con conexiones residuales y vamos a probar como dichas conexiones evitan que la performance se degrade al aumentar las capas de la red neuronal."
      ]
    },
    {
      "cell_type": "code",
      "execution_count": null,
      "metadata": {
        "id": "nrLGTdeCN_eH"
      },
      "outputs": [],
      "source": [
        "import numpy as np\n",
        "import matplotlib.pyplot as plt\n",
        "\n",
        "import torch\n",
        "import torchvision\n",
        "import torchsummary"
      ]
    },
    {
      "cell_type": "markdown",
      "metadata": {
        "id": "KWIPfnxcz6ic"
      },
      "source": [
        "Para este caso, vamos a entrenar a las redes neuronales para que aproximen la función seno, por lo que vamos a generar datos utilizando dicha función. El dataset esta generado en una clase propia, que hereda de la clase base Dataset que provee PyTorch. Para crear un dataset de esta forma, es necesario implementar los metodos `__len__` y `__getitem__`. Ver [ejemplo](https://pytorch.org/tutorials/beginner/data_loading_tutorial.html)."
      ]
    },
    {
      "cell_type": "code",
      "execution_count": null,
      "metadata": {
        "id": "RnX9MgBmzcyV"
      },
      "outputs": [],
      "source": [
        "class SinDataset(torch.utils.data.Dataset):\n",
        "    def __init__(self, mean, stddev):\n",
        "        self.mean = mean\n",
        "        self.stddev = stddev\n",
        "\n",
        "        self.data = np.random.normal(loc=self.mean, scale=self.stddev, size=(640, 10)).astype(np.float32)\n",
        "        self.target = np.sin(self.data)\n",
        "\n",
        "    def __len__(self):\n",
        "        return len(self.data)\n",
        "\n",
        "    def __getitem__(self, id):\n",
        "        if torch.is_tensor(id):\n",
        "            id = id.tolist()\n",
        "\n",
        "        data = self.data[id]\n",
        "        target = self.target[id]\n",
        "\n",
        "        return (data, target)"
      ]
    },
    {
      "cell_type": "code",
      "execution_count": null,
      "metadata": {
        "id": "qTGMrxBS4KAY"
      },
      "outputs": [],
      "source": [
        "train_set = SinDataset(np.pi, 1.5)\n",
        "train_loader = torch.utils.data.DataLoader(train_set, batch_size=32, shuffle=True)"
      ]
    },
    {
      "cell_type": "markdown",
      "metadata": {
        "id": "vDuX_N-ccb18"
      },
      "source": [
        "## ResNet vs Red \"plana\"\n",
        "\n",
        "Con el objetivo de probar el funcionamiento de las conexiones residuales, generamos modelos \"planos\", es decir, sin dichas conexiones y los entrenamos aumentando cada vez mas la cantidad de capas densas en los mismos. Luego, repetimos el proceso para modelos de iguales cantidades de capas pero agregando las conexiones residuales. Finalmente comparamos la evolución del error al final del entrenamiento, a medida que se van incrementando la cantidad de capas, para ambos casos.\n"
      ]
    },
    {
      "cell_type": "code",
      "execution_count": null,
      "metadata": {
        "id": "H_i5icCDCiqx"
      },
      "outputs": [],
      "source": [
        "# Defino la cantidad de capas que quiero que tenga la red mas grande\n",
        "layers_amount = 25"
      ]
    },
    {
      "cell_type": "markdown",
      "metadata": {
        "id": "dgxFvoKd4oHY"
      },
      "source": [
        "### Entrenamiento red \"plana\""
      ]
    },
    {
      "cell_type": "code",
      "execution_count": null,
      "metadata": {
        "id": "ub93Gvibn9oM"
      },
      "outputs": [],
      "source": [
        "class PlainModel(torch.nn.Module):\n",
        "    def __init__(self, layers, input_size):\n",
        "        super().__init__()\n",
        "        \n",
        "        self.first_layer = torch.nn.Linear(in_features=input_size, out_features=10)\n",
        "        self.hidden_layers = torch.nn.ModuleList()\n",
        "        for i in range(layers-1):\n",
        "            self.hidden_layers.append(torch.nn.Linear(in_features=10, out_features=10))\n",
        "\n",
        "    def forward(self, x):\n",
        "\n",
        "        x = torch.relu(self.first_layer(x))\n",
        "        for layer in self.hidden_layers:\n",
        "            x = torch.relu(layer(x))\n",
        "        return x"
      ]
    },
    {
      "cell_type": "code",
      "execution_count": null,
      "metadata": {
        "colab": {
          "base_uri": "https://localhost:8080/"
        },
        "id": "ZbObDL70rR8r",
        "outputId": "cb2bc5a8-c451-4e79-bfd8-227e14176c22"
      },
      "outputs": [],
      "source": [
        "plain_model = PlainModel(layers=5, input_size=10)\n",
        "torchsummary.summary(plain_model, input_size=(1, 10))"
      ]
    },
    {
      "cell_type": "code",
      "execution_count": null,
      "metadata": {
        "id": "k1-18jAC-3Gp"
      },
      "outputs": [],
      "source": [
        "# Funcion de entrenamiento\n",
        "\n",
        "def train(model, data_loader, epochs):\n",
        "\n",
        "    optimizer = torch.optim.Adam(model.parameters())\n",
        "    loss = torch.nn.MSELoss()\n",
        "\n",
        "    for epoch in range(epochs):\n",
        "\n",
        "        epoch_loss = 0.0\n",
        "        for data, target in data_loader:\n",
        "\n",
        "            optimizer.zero_grad()\n",
        "            output = model(data)\n",
        "            loss_value = loss(output, target)\n",
        "            epoch_loss += loss_value.item()\n",
        "            loss_value.backward()\n",
        "            optimizer.step()\n",
        "\n",
        "    last_epoch_loss = epoch_loss / len(data_loader)\n",
        "    print(\"Error de ultima epoca es {}\".format(last_epoch_loss))\n",
        "    return last_epoch_loss"
      ]
    },
    {
      "cell_type": "code",
      "execution_count": null,
      "metadata": {
        "colab": {
          "base_uri": "https://localhost:8080/"
        },
        "id": "HQqW0A9m-b5B",
        "outputId": "2d1d253a-d78e-4fd9-ed23-3cd561593e56"
      },
      "outputs": [],
      "source": [
        "print(\"Entrenamiento redes neuronales planas\")\n",
        "\n",
        "plain_loss_history = []\n",
        "\n",
        "for layers in range(1, layers_amount):\n",
        "\n",
        "    plain_model = PlainModel(layers=layers, input_size=10)\n",
        "    plain_loss = train(plain_model, train_loader, 20*layers)\n",
        "    plain_loss_history.append(plain_loss)\n",
        "    del plain_model"
      ]
    },
    {
      "cell_type": "markdown",
      "metadata": {
        "id": "9NLo0UIt4wWT"
      },
      "source": [
        "### Entrenamiento de ResNet"
      ]
    },
    {
      "cell_type": "code",
      "execution_count": null,
      "metadata": {
        "id": "WooeD9VXXKwx"
      },
      "outputs": [],
      "source": [
        "class ResNetBlock(torch.nn.Module):\n",
        "    def __init__(self, in_features, out_features):\n",
        "        super().__init__()\n",
        "        \n",
        "        self.layer1 = torch.nn.Linear(in_features, out_features)\n",
        "        self.layer2 = torch.nn.Linear(in_features, out_features)\n",
        "\n",
        "    def forward(self, x):\n",
        "\n",
        "        shortcut = x\n",
        "        x = torch.relu(self.layer1(x))\n",
        "        x = self.layer2(x)\n",
        "        x = shortcut + x\n",
        "        x = torch.relu(x)\n",
        "        return x\n",
        "\n",
        "class ResNetModel(torch.nn.Module):\n",
        "    def __init__(self, layers, input_size, resnet_block):\n",
        "        super().__init__()\n",
        "        \n",
        "        self.first_layer = torch.nn.Linear(in_features=input_size, out_features=10)\n",
        "        self.hidden_layers = torch.nn.ModuleList()\n",
        "        for i in range(int((layers-1)/2)):\n",
        "            self.hidden_layers.append(resnet_block(in_features=10, out_features=10))\n",
        "\n",
        "    def forward(self, x):\n",
        "\n",
        "        x = torch.relu(self.first_layer(x))\n",
        "        for layer in self.hidden_layers:\n",
        "            x = layer(x)\n",
        "        return x"
      ]
    },
    {
      "cell_type": "code",
      "execution_count": null,
      "metadata": {
        "colab": {
          "base_uri": "https://localhost:8080/"
        },
        "id": "7n7QQ7S6ZI4j",
        "outputId": "3bc60ba9-3561-4ef7-848b-52f2a6dd05de"
      },
      "outputs": [],
      "source": [
        "resnet_model = ResNetModel(layers=5, input_size=10, resnet_block=ResNetBlock)\n",
        "torchsummary.summary(resnet_model, input_size=(1, 10))\n",
        "print(resnet_model.modules)"
      ]
    },
    {
      "cell_type": "code",
      "execution_count": null,
      "metadata": {
        "colab": {
          "base_uri": "https://localhost:8080/"
        },
        "id": "qBWgnlpsaZXt",
        "outputId": "db84bf6c-77a3-4d4d-92de-ca9852deaa74"
      },
      "outputs": [],
      "source": [
        "print(\"Entrenamiento redes neuronales residuales\")\n",
        "\n",
        "resnet_loss_history = []\n",
        "\n",
        "for layers in range(1, layers_amount):\n",
        "\n",
        "    resnet_model = ResNetModel(layers=layers, input_size=10, resnet_block=ResNetBlock)\n",
        "    resnet_loss = train(resnet_model, train_loader, 20*layers)\n",
        "    resnet_loss_history.append(resnet_loss)\n",
        "    del resnet_model"
      ]
    },
    {
      "cell_type": "markdown",
      "metadata": {
        "id": "ozgq0UcCL0w0"
      },
      "source": [
        "## Grafica con los resultados\n",
        "\n",
        "En la siguiente grafica se puede observar como evoluciona el error de entrenamiento a medida que se incrementa la cantidad de capas dentro de la red."
      ]
    },
    {
      "cell_type": "code",
      "execution_count": null,
      "metadata": {
        "colab": {
          "base_uri": "https://localhost:8080/",
          "height": 295
        },
        "id": "FiPnnc-q6zNT",
        "outputId": "20298b32-4260-4006-dce4-a957f0fef2b1"
      },
      "outputs": [],
      "source": [
        "plt.plot(range(1, layers_amount), plain_loss_history, label=\"PlainNet\")\n",
        "plt.plot(range(1, layers_amount), resnet_loss_history, label=\"ResNet\")\n",
        "plt.title(\"función seno con redes neuronales\")\n",
        "plt.xlabel(\"# de capas\")\n",
        "plt.ylabel(\"valor de loss function final\")\n",
        "plt.legend()\n",
        "plt.show()"
      ]
    }
  ],
  "metadata": {
    "colab": {
      "name": "Clase 3 - ResNet - 4co2021.ipynb",
      "provenance": []
    },
    "kernelspec": {
      "display_name": "Python 3",
      "name": "python3"
    },
    "language_info": {
      "name": "python"
    }
  },
  "nbformat": 4,
  "nbformat_minor": 0
}
